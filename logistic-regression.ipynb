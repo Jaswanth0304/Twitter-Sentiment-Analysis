{
 "cells": [
  {
   "cell_type": "code",
   "execution_count": 2,
   "id": "6bce4400",
   "metadata": {},
   "outputs": [],
   "source": [
    "sns.set_style('darkgrid')\n"
   ]
  },
  {
   "cell_type": "code",
   "execution_count": 1,
   "id": "712622b8",
   "metadata": {},
   "outputs": [],
   "source": [
    "import numpy as np\n",
    "import pandas as pd\n",
    "import seaborn as sns \n",
    "import matplotlib.pyplot as plt\n",
    "import json\n",
    "import re\n",
    "import string\n",
    "import tqdm\n",
    "# natural language toolkit library for stemming, tokenizing, etc.\n",
    "import nltk\n",
    "from nltk.corpus import stopwords\n",
    "from nltk.stem import PorterStemmer\n",
    "from nltk.tokenize import TweetTokenizer"
   ]
  },
  {
   "cell_type": "code",
   "execution_count": 25,
   "id": "5944f47f",
   "metadata": {},
   "outputs": [
    {
     "name": "stderr",
     "output_type": "stream",
     "text": [
      "[nltk_data] Downloading package stopwords to\n",
      "[nltk_data]     C:\\Users\\user\\AppData\\Roaming\\nltk_data...\n",
      "[nltk_data]   Unzipping corpora\\stopwords.zip.\n"
     ]
    },
    {
     "data": {
      "text/plain": [
       "True"
      ]
     },
     "execution_count": 25,
     "metadata": {},
     "output_type": "execute_result"
    }
   ],
   "source": [
    "nltk.download('stopwords')\n"
   ]
  },
  {
   "cell_type": "code",
   "execution_count": 3,
   "id": "4f30d707",
   "metadata": {},
   "outputs": [],
   "source": [
    "columns = ['target', 'id', 'date', 'flag', 'user', 'text']\n"
   ]
  },
  {
   "cell_type": "code",
   "execution_count": 4,
   "id": "5dbdce95",
   "metadata": {},
   "outputs": [],
   "source": [
    "full_df = pd.read_csv(r'C:\\Users\\user\\Desktop\\academics\\sem5\\Machine Learning\\project\\training.1600000.processed.noemoticon.csv', header = None, names = columns,  encoding='latin-1')"
   ]
  },
  {
   "cell_type": "code",
   "execution_count": 5,
   "id": "74eba889",
   "metadata": {},
   "outputs": [
    {
     "data": {
      "text/html": [
       "<div>\n",
       "<style scoped>\n",
       "    .dataframe tbody tr th:only-of-type {\n",
       "        vertical-align: middle;\n",
       "    }\n",
       "\n",
       "    .dataframe tbody tr th {\n",
       "        vertical-align: top;\n",
       "    }\n",
       "\n",
       "    .dataframe thead th {\n",
       "        text-align: right;\n",
       "    }\n",
       "</style>\n",
       "<table border=\"1\" class=\"dataframe\">\n",
       "  <thead>\n",
       "    <tr style=\"text-align: right;\">\n",
       "      <th></th>\n",
       "      <th>target</th>\n",
       "      <th>id</th>\n",
       "      <th>date</th>\n",
       "      <th>flag</th>\n",
       "      <th>user</th>\n",
       "      <th>text</th>\n",
       "    </tr>\n",
       "  </thead>\n",
       "  <tbody>\n",
       "    <tr>\n",
       "      <th>0</th>\n",
       "      <td>0</td>\n",
       "      <td>1467810369</td>\n",
       "      <td>Mon Apr 06 22:19:45 PDT 2009</td>\n",
       "      <td>NO_QUERY</td>\n",
       "      <td>_TheSpecialOne_</td>\n",
       "      <td>@switchfoot http://twitpic.com/2y1zl - Awww, t...</td>\n",
       "    </tr>\n",
       "    <tr>\n",
       "      <th>1</th>\n",
       "      <td>0</td>\n",
       "      <td>1467810672</td>\n",
       "      <td>Mon Apr 06 22:19:49 PDT 2009</td>\n",
       "      <td>NO_QUERY</td>\n",
       "      <td>scotthamilton</td>\n",
       "      <td>is upset that he can't update his Facebook by ...</td>\n",
       "    </tr>\n",
       "    <tr>\n",
       "      <th>2</th>\n",
       "      <td>0</td>\n",
       "      <td>1467810917</td>\n",
       "      <td>Mon Apr 06 22:19:53 PDT 2009</td>\n",
       "      <td>NO_QUERY</td>\n",
       "      <td>mattycus</td>\n",
       "      <td>@Kenichan I dived many times for the ball. Man...</td>\n",
       "    </tr>\n",
       "    <tr>\n",
       "      <th>3</th>\n",
       "      <td>0</td>\n",
       "      <td>1467811184</td>\n",
       "      <td>Mon Apr 06 22:19:57 PDT 2009</td>\n",
       "      <td>NO_QUERY</td>\n",
       "      <td>ElleCTF</td>\n",
       "      <td>my whole body feels itchy and like its on fire</td>\n",
       "    </tr>\n",
       "    <tr>\n",
       "      <th>4</th>\n",
       "      <td>0</td>\n",
       "      <td>1467811193</td>\n",
       "      <td>Mon Apr 06 22:19:57 PDT 2009</td>\n",
       "      <td>NO_QUERY</td>\n",
       "      <td>Karoli</td>\n",
       "      <td>@nationwideclass no, it's not behaving at all....</td>\n",
       "    </tr>\n",
       "  </tbody>\n",
       "</table>\n",
       "</div>"
      ],
      "text/plain": [
       "   target          id                          date      flag  \\\n",
       "0       0  1467810369  Mon Apr 06 22:19:45 PDT 2009  NO_QUERY   \n",
       "1       0  1467810672  Mon Apr 06 22:19:49 PDT 2009  NO_QUERY   \n",
       "2       0  1467810917  Mon Apr 06 22:19:53 PDT 2009  NO_QUERY   \n",
       "3       0  1467811184  Mon Apr 06 22:19:57 PDT 2009  NO_QUERY   \n",
       "4       0  1467811193  Mon Apr 06 22:19:57 PDT 2009  NO_QUERY   \n",
       "\n",
       "              user                                               text  \n",
       "0  _TheSpecialOne_  @switchfoot http://twitpic.com/2y1zl - Awww, t...  \n",
       "1    scotthamilton  is upset that he can't update his Facebook by ...  \n",
       "2         mattycus  @Kenichan I dived many times for the ball. Man...  \n",
       "3          ElleCTF    my whole body feels itchy and like its on fire   \n",
       "4           Karoli  @nationwideclass no, it's not behaving at all....  "
      ]
     },
     "execution_count": 5,
     "metadata": {},
     "output_type": "execute_result"
    }
   ],
   "source": [
    "full_df.head()\n"
   ]
  },
  {
   "cell_type": "code",
   "execution_count": 6,
   "id": "850bc6bd",
   "metadata": {},
   "outputs": [
    {
     "name": "stdout",
     "output_type": "stream",
     "text": [
      "Total Number of tweets in the database = 1600000\n",
      "Total Number of positive tweets = 800000\n",
      "Total Number of negative tweets = 800000\n"
     ]
    }
   ],
   "source": [
    "num_tweets = len(full_df)\n",
    "num_pos_tweets = len(full_df[full_df['target'] == 4])\n",
    "num_neg_tweets = len(full_df[full_df['target'] == 0])\n",
    "print(\"Total Number of tweets in the database = {}\".format(num_tweets))\n",
    "print(\"Total Number of positive tweets = {}\".format(num_pos_tweets))\n",
    "print(\"Total Number of negative tweets = {}\".format(num_neg_tweets))"
   ]
  },
  {
   "cell_type": "code",
   "execution_count": 7,
   "id": "ed379a2f",
   "metadata": {},
   "outputs": [],
   "source": [
    "#all_positive_tweets = full_df[full_df['target'] == 4]['text'].to_json()\n",
    "#all_negative_tweets = full_df[full_df['target'] == 0]['text'].to_json()\n",
    "#pos_file = open(\"data/pos_tweets.json\", 'w')\n",
    "#neg_file = open(\"data/neg_tweets.json\", 'w')\n",
    "#json.dump(all_positive_tweets, pos_file, indent = 6)\n",
    "#json.dump(all_negative_tweets, neg_file, indent = 6)"
   ]
  },
  {
   "cell_type": "code",
   "execution_count": 8,
   "id": "6b838df8",
   "metadata": {},
   "outputs": [],
   "source": [
    "all_positive_tweets = list(full_df[full_df['target'] == 4]['text'])\n",
    "all_negative_tweets = list(full_df[full_df['target'] == 0]['text'])"
   ]
  },
  {
   "cell_type": "code",
   "execution_count": 9,
   "id": "d823900a",
   "metadata": {},
   "outputs": [],
   "source": [
    "# selecting only a portion of data due large size\n",
    "select_prop = .25\n",
    "all_positive_tweets = all_positive_tweets[:int(len(all_positive_tweets)*select_prop)]\n",
    "all_negative_tweets = all_negative_tweets[:int(len(all_negative_tweets)*select_prop)]"
   ]
  },
  {
   "cell_type": "code",
   "execution_count": 10,
   "id": "e3c24061",
   "metadata": {},
   "outputs": [],
   "source": [
    "train_split = 0.8\n",
    "train_pos = all_positive_tweets[:int(len(all_positive_tweets)*train_split)]\n",
    "train_neg = all_negative_tweets[:int(len(all_negative_tweets)*train_split)]\n",
    "test_pos = all_positive_tweets[int(len(all_positive_tweets)*train_split):]\n",
    "test_neg = all_negative_tweets[int(len(all_negative_tweets)*train_split):]\n",
    "train_x = train_pos + train_neg\n",
    "test_x = test_pos + test_neg\n",
    "train_y = np.concatenate((np.ones(len(train_pos)), np.zeros(len(train_neg))))\n",
    "test_y = np.concatenate((np.ones(len(test_pos)), np.zeros(len(test_neg))))\n"
   ]
  },
  {
   "cell_type": "code",
   "execution_count": 11,
   "id": "c2976856",
   "metadata": {},
   "outputs": [
    {
     "name": "stdout",
     "output_type": "stream",
     "text": [
      "Positive tweet - \n",
      "I LOVE @Health4UandPets u guys r the best!! \n",
      "Negative tweet - \n",
      "@caregiving I couldn't bear to watch it.  And I thought the UA loss was embarrassing . . . . .\n"
     ]
    }
   ],
   "source": [
    "print(\"Positive tweet - \")\n",
    "print(train_pos[0])\n",
    "print(\"Negative tweet - \")\n",
    "print(train_neg[12])"
   ]
  },
  {
   "cell_type": "code",
   "execution_count": 12,
   "id": "086daec7",
   "metadata": {},
   "outputs": [
    {
     "name": "stdout",
     "output_type": "stream",
     "text": [
      "Number of training samples -  320000\n",
      "Numner of test samples -  80000\n"
     ]
    }
   ],
   "source": [
    "print(\"Number of training samples - \", len(train_x))\n",
    "print(\"Numner of test samples - \", len(test_x))"
   ]
  },
  {
   "cell_type": "code",
   "execution_count": 26,
   "id": "506c6999",
   "metadata": {},
   "outputs": [],
   "source": [
    "def process_tweet(tweet):\n",
    "    \"\"\"Process tweet function.\n",
    "    Input:\n",
    "        tweet: a string containing a tweet\n",
    "    Output:\n",
    "        tweets_clean: a list of words containing the processed tweet\n",
    "    \"\"\"\n",
    "    stemmer = PorterStemmer()\n",
    "    stopwords_english = stopwords.words('english')\n",
    "    # remove stock market tickers like $GE\n",
    "    tweet = re.sub(r'\\$\\w*', '', tweet)\n",
    "    # remove old style retweet text \"RT\"\n",
    "    tweet = re.sub(r'^RT[\\s]+', '', tweet)\n",
    "    # remove hyperlinks\n",
    "    tweet = re.sub(r'https?:\\/\\/.*[\\r\\n]*', '', tweet)\n",
    "    # remove hashtags\n",
    "    tweet = re.sub(r'#', '', tweet)\n",
    "    # tokenize tweets\n",
    "    tokenizer = TweetTokenizer(preserve_case=False, strip_handles=True, reduce_len=True)\n",
    "    tweet_tokens = tokenizer.tokenize(tweet)\n",
    "\n",
    "    tweets_clean = []\n",
    "    for word in tweet_tokens:\n",
    "        if (word not in stopwords_english and  # remove stopwords\n",
    "                word not in string.punctuation):  # remove punctuation\n",
    "            stem_word = stemmer.stem(word)  # stemming word\n",
    "            tweets_clean.append(stem_word)\n",
    "\n",
    "    return tweets_clean\n",
    "\n",
    "def build_freqs(tweets, ys):\n",
    "    \"\"\"Build frequencies.\n",
    "    Input:\n",
    "        tweets: a list of tweets\n",
    "        ys: an m x 1 array with the sentiment label of each tweet\n",
    "            (either 0 or 1)\n",
    "    Output:\n",
    "        freqs: a dictionary mapping each (word, sentiment) pair to its\n",
    "        frequency\n",
    "    \"\"\"\n",
    "    # Convert np array to list since zip needs an iterable.\n",
    "    # The squeeze is necessary or the list ends up with one element.\n",
    "    # Also note that this is just a NOP if ys is already a list.\n",
    "    yslist = np.squeeze(ys).tolist()\n",
    "\n",
    "    # Start with an empty dictionary and populate it by looping over all tweets\n",
    "    # and over all processed words in each tweet.\n",
    "    freqs = {}\n",
    "    for y, tweet in zip(yslist, tweets):\n",
    "        for word in process_tweet(tweet):\n",
    "            pair = (word, y)\n",
    "            if pair in freqs:\n",
    "                freqs[pair] += 1\n",
    "            else:\n",
    "                freqs[pair] = 1\n",
    "\n",
    "    return freqs"
   ]
  },
  {
   "cell_type": "code",
   "execution_count": 27,
   "id": "25cb78c0",
   "metadata": {},
   "outputs": [
    {
     "name": "stdout",
     "output_type": "stream",
     "text": [
      "Original Tweet - \n",
      "I LOVE @Health4UandPets u guys r the best!! \n",
      "Processed Tweet - \n",
      "['love', 'u', 'guy', 'r', 'best']\n"
     ]
    }
   ],
   "source": [
    "\n",
    "print(\"Original Tweet - \")\n",
    "print(train_x[0])\n",
    "print(\"Processed Tweet - \")\n",
    "print(process_tweet(train_x[0]))"
   ]
  },
  {
   "cell_type": "code",
   "execution_count": 34,
   "id": "286e0ff8",
   "metadata": {},
   "outputs": [],
   "source": [
    "# Frequency dict\n",
    "# structure\n",
    "# (word, label) : number of times word appears in that class\n",
    "freqs = build_freqs(train_x, train_y)"
   ]
  },
  {
   "cell_type": "code",
   "execution_count": 29,
   "id": "cb217ddc",
   "metadata": {},
   "outputs": [],
   "source": [
    "# sugmoid function\n",
    "def sigmoid(z):\n",
    "    h = 1/(1 + np.exp(-z))\n",
    "    return h\n",
    "\n",
    "# stochastic gradient descent algorithm for optimizing weigths\n",
    "\n",
    "def StochasticGradientDescent(x, y, theta, alpha, num_iters, batch_per_itr, batch_size):\n",
    "    '''\n",
    "    Input:\n",
    "        x: matrix of features which is (m,n+1)\n",
    "        y: corresponding labels of the input matrix x, dimensions (m,1)\n",
    "        theta: weight vector of dimension (n+1,1)\n",
    "        alpha: learning rate\n",
    "        num_iters: number of iterations you want to train your model for\n",
    "    Output:\n",
    "        J: the final cost\n",
    "        theta: final weight vector\n",
    "        \n",
    "    '''\n",
    "    # get 'm', the number of rows in matrix x\n",
    "    m =  x.shape[0]\n",
    "    loss = []\n",
    "    for itr in range(0, num_iters):\n",
    "        \n",
    "        for i in range(batch_per_itr):\n",
    "            batch = np.random.randint(0, m, size=batch_size)\n",
    "            x_train = x[batch,:]\n",
    "            y_train = y[batch,:]\n",
    "            \n",
    "            # get z, the dot product of x and theta\n",
    "            z = np.dot(x_train, theta)\n",
    "        \n",
    "            # get the sigmoid of z\n",
    "            h = sigmoid(z)\n",
    "        \n",
    "            # calculate the cost function\n",
    "            J = -1/batch_size * (np.dot(np.transpose(y_train),np.log(h)) + np.dot(np.transpose(1 - y_train), np.log(1 - h)))\n",
    "            \n",
    "            \n",
    "        \n",
    "            # update the weights theta\n",
    "            theta = theta - ( alpha/m * np.dot(np.transpose(x_train), (h - y_train)))\n",
    "        if not itr%10 and itr:\n",
    "            print(\"Completed {} iterations, loss = {}\".format(itr, np.squeeze(J))) \n",
    "        loss.append(J)\n",
    "    J = float(J)\n",
    "    return J, theta, loss\n",
    "\n",
    "# feature extraction utility function\n",
    "\n",
    "def extract_features(tweet, freqs):\n",
    "    '''\n",
    "    Input: \n",
    "        tweet: a list of words for one tweet\n",
    "        freqs: a dictionary corresponding to the frequencies of each tuple (word, label)\n",
    "    Output: \n",
    "        x: a feature vector of dimension (1,3)\n",
    "    '''\n",
    "    # process_tweet tokenizes, stems, and removes stopwords\n",
    "    word_l = process_tweet(tweet)\n",
    "    \n",
    "    # 3 elements in the form of a 1 x 3 vector\n",
    "    x = np.zeros((1, 3)) \n",
    "    \n",
    "    #bias term is set to 1\n",
    "    x[0,0] = 1 \n",
    "    \n",
    "    \n",
    "    # loop through each word in the list of words\n",
    "    for word in word_l:\n",
    "        pos_pair = (word, 1.0)\n",
    "        neg_pair = (word, 0.0)\n",
    "        if pos_pair in freqs.keys():\n",
    "            # increment the word count for the positive label 1\n",
    "            x[0,1] += freqs[pos_pair]\n",
    "        if neg_pair in freqs.keys():\n",
    "            # increment the word count for the negative label 0\n",
    "            x[0,2] += freqs[neg_pair]\n",
    "        \n",
    "        \n",
    "    assert(x.shape == (1, 3))\n",
    "    return x\n",
    "\n",
    "\n",
    "def predict_tweet(tweet, freqs, theta):\n",
    "    '''\n",
    "    Input: \n",
    "        tweet: a string\n",
    "        freqs: a dictionary corresponding to the frequencies of each tuple (word, label)\n",
    "        theta: (3,1) vector of weights\n",
    "    Output: \n",
    "        y_pred: the probability of a tweet being positive or negative\n",
    "    '''\n",
    "    \n",
    "    # extract the features of the tweet and store it into x\n",
    "    x = extract_features(tweet, freqs)\n",
    "    \n",
    "    # make the prediction using x and theta\n",
    "    y_pred = sigmoid(np.dot(x, theta))\n",
    "    \n",
    "    \n",
    "    return y_pred\n",
    "\n",
    "\n",
    "def test_logistic_regression(test_x, test_y, freqs, theta):\n",
    "    \"\"\"\n",
    "    Input: \n",
    "        test_x: a list of tweets\n",
    "        test_y: (m, 1) vector with the corresponding labels for the list of tweets\n",
    "        freqs: a dictionary with the frequency of each pair (or tuple)\n",
    "        theta: weight vector of dimension (3, 1)\n",
    "    Output: \n",
    "        accuracy: (# of tweets classified correctly) / (total # of tweets)\n",
    "    \"\"\"\n",
    "    \n",
    "\n",
    "    \n",
    "    # the list for storing predictions\n",
    "    y_hat = []\n",
    "    m = test_y.shape[0]\n",
    "    for tweet in test_x:\n",
    "        # get the label prediction for the tweet\n",
    "        y_pred = predict_tweet(tweet, freqs, theta)\n",
    "        \n",
    "        if y_pred > 0.5:\n",
    "            # append 1.0 to the list\n",
    "            y_hat.append(1)\n",
    "        else:\n",
    "            # append 0 to the list\n",
    "            y_hat.append(0)\n",
    "\n",
    "   \n",
    "   \n",
    "    y_hat = np.array(y_hat)\n",
    "    y_hat = np.reshape(y_hat, (m, 1))\n",
    "    accuracy = np.sum(y_hat == test_y)/m\n",
    "    \n",
    "    return accuracy"
   ]
  },
  {
   "cell_type": "code",
   "execution_count": 30,
   "id": "4d6f97fe",
   "metadata": {
    "scrolled": true
   },
   "outputs": [],
   "source": [
    "X = np.zeros((len(train_x), 3))\n",
    "for i in range(len(train_x)):\n",
    "    X[i, :]= extract_features(train_x[i], freqs)\n",
    " \n",
    "\n",
    "Y = train_y"
   ]
  },
  {
   "cell_type": "code",
   "execution_count": 31,
   "id": "87b6942f",
   "metadata": {},
   "outputs": [],
   "source": [
    "Y = np.reshape(Y, (-1,1))\n"
   ]
  },
  {
   "cell_type": "code",
   "execution_count": 32,
   "id": "831fa3a5",
   "metadata": {},
   "outputs": [],
   "source": [
    "# shuffle data\n",
    "s = np.random.permutation(range(len(X)))\n",
    "X = X[s]\n",
    "Y = Y[s]"
   ]
  },
  {
   "cell_type": "code",
   "execution_count": 33,
   "id": "4e0b0d64",
   "metadata": {},
   "outputs": [
    {
     "name": "stdout",
     "output_type": "stream",
     "text": [
      "Completed 10 iterations, loss = 0.6334410745843622\n",
      "Completed 20 iterations, loss = 0.6188409104630113\n",
      "Completed 30 iterations, loss = 0.6128375695256166\n",
      "Completed 40 iterations, loss = 0.6101830173476401\n",
      "Completed 50 iterations, loss = 0.6080128046992808\n",
      "Completed 60 iterations, loss = 0.6062575738492373\n",
      "Completed 70 iterations, loss = 0.6076723167736039\n",
      "Completed 80 iterations, loss = 0.6064011806728571\n",
      "Completed 90 iterations, loss = 0.6059654746544123\n",
      "The cost after traill ning is 0.60591551.\n",
      "The resulting vector of weights is [-0.0, 0.00018306, -0.00015833]\n"
     ]
    }
   ],
   "source": [
    "J, theta, loss_logs = StochasticGradientDescent(X, Y, theta = np.zeros((3, 1)), alpha=1e-9, num_iters=100, batch_per_itr=50, batch_size=100000) \n",
    "print(f\"The cost after traill ning is {J:.8f}.\")\n",
    "print(f\"The resulting vector of weights is {[round(t, 8) for t in np.squeeze(theta)]}\")"
   ]
  },
  {
   "cell_type": "code",
   "execution_count": 35,
   "id": "266654e0",
   "metadata": {},
   "outputs": [
    {
     "data": {
      "image/png": "[encoded data removed]",
      "text/plain": [
       "<Figure size 640x480 with 1 Axes>"
      ]
     },
     "metadata": {},
     "output_type": "display_data"
    }
   ],
   "source": [
    "plt.plot(np.squeeze(loss_logs))\n",
    "plt.xlabel(\"Iteration\")\n",
    "plt.ylabel(\"Loss\")\n",
    "plt.show()"
   ]
  },
  {
   "cell_type": "code",
   "execution_count": 36,
   "id": "d24448fe",
   "metadata": {},
   "outputs": [
    {
     "name": "stdout",
     "output_type": "stream",
     "text": [
      "Logistic regression model's accuracy = 0.6810\n"
     ]
    }
   ],
   "source": [
    "tmp_accuracy = test_logistic_regression(test_x, np.reshape(test_y, (-1,1)), freqs, theta)\n",
    "print(f\"Logistic regression model's accuracy = {tmp_accuracy:.4f}\")"
   ]
  },
  {
   "cell_type": "code",
   "execution_count": null,
   "id": "e94af682",
   "metadata": {},
   "outputs": [],
   "source": []
  }
 ],
 "metadata": {
  "kernelspec": {
   "display_name": "Python 3 (ipykernel)",
   "language": "python",
   "name": "python3"
  },
  "language_info": {
   "codemirror_mode": {
    "name": "ipython",
    "version": 3
   },
   "file_extension": ".py",
   "mimetype": "text/x-python",
   "name": "python",
   "nbconvert_exporter": "python",
   "pygments_lexer": "ipython3",
   "version": "3.11.3"
  }
 },
 "nbformat": 4,
 "nbformat_minor": 5
}
